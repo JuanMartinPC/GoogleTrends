{
 "cells": [
  {
   "cell_type": "code",
   "execution_count": null,
   "id": "7280be88",
   "metadata": {
    "id": "7280be88",
    "scrolled": true
   },
   "outputs": [],
   "source": [
    "import pandas as pd\n",
    "from pytrends.request import TrendReq\n",
    "\n",
    "pytrends = TrendReq(hl='es')\n",
    "\n",
    "from googlesearch import search\n",
    "import numpy as np"
   ]
  },
  {
   "cell_type": "markdown",
   "id": "1b3b7882",
   "metadata": {},
   "source": [
    "El archivo.txt que se utilice para realizar la búsqueda debe encontrarse en el mismo lugar que este código, y debe estar compuesto por una única columna de palabras sin espacios ni comas, es decir, una palabra abajo de la otra. De lo contrario saldrá un error.\n",
    "\n",
    "Para abrir el archivo.txt, hay que escribir su nombre en la variable llamada 'texto' de la celda inferior, sin omitir el '.txt'. Todo esto (nombre.txt) tiene que estar entre comillas tal como se muestra en dicha celda.\n",
    "\n",
    "En caso de querer hacerlo desde Google Colab, para que el código funcione hay que vincular y montar Google drive, de otra forma no se podrá abrir el archivo.txt. En este caso el texto tiene que estar subido a Google Drive. Sin embargo, es recomendable usar Jupyter Notebook debido a que Google Colab impone un límite de búsquedas, generando resultados indeseados.\n",
    "\n",
    "La variable 'pais' debe ser un código ISO 3166-1 alfa-2. Esto va a determinar el país en el que se va a realizar la búsqueda\n",
    "\n",
    "La variable 'fecha' es INICIO-FIN. Debe estar en formato YYYY-MM-DD YYYY-MM-DD y entre comillas.\n",
    "\n",
    "Una vez que se termine de ejecutar todo el código, el archivo .csv va a quedar guardado en el Home Page de Jupyter con el pais y la fecha como nombre. Una vez ahí, se puede descargar y abrir en excel."
   ]
  },
  {
   "cell_type": "code",
   "execution_count": null,
   "id": "2b8738ab",
   "metadata": {
    "id": "2b8738ab"
   },
   "outputs": [],
   "source": [
    "texto = 'Ingredients_2.txt'\n",
    "pais = 'AR' \n",
    "fecha = '2021-1-1 2021-6-30' "
   ]
  },
  {
   "cell_type": "markdown",
   "id": "5f671116",
   "metadata": {},
   "source": [
    "A partir de acá no modificar ninguna celda."
   ]
  },
  {
   "cell_type": "code",
   "execution_count": null,
   "id": "029908e0",
   "metadata": {
    "id": "029908e0"
   },
   "outputs": [],
   "source": [
    "nombre_del_csv = f'{pais}_{fecha}.csv'\n",
    "#---------------------------------------------------------------------------------------\n",
    "ingredients  = open(texto,'r',encoding=\"UTF-8\").read().split('/n')\n",
    "ingredients = [x for x in ingredients[0].replace(\"\\x00\",\"\").split(\"\\n\") if bool(x)][1:]\n",
    "#---------------------------------------------------------------------------------------\n",
    "desde = fecha[0:9]\n",
    "print(desde)\n",
    "hasta = fecha[9:]\n",
    "print(hasta)"
   ]
  },
  {
   "cell_type": "code",
   "execution_count": null,
   "id": "682cfbf8",
   "metadata": {
    "id": "682cfbf8",
    "scrolled": true
   },
   "outputs": [],
   "source": [
    "dictio = {}\n",
    "try:\n",
    "    \n",
    "    for i in ingredients:\n",
    "        \n",
    "        print(\"Comenzando una nueva busqueda...\")\n",
    "        pytrends = TrendReq(timeout=(15, 30))\n",
    "        pytrends.build_payload(kw_list=[i.strip()], geo=pais, timeframe=fecha)\n",
    "        main = pytrends.related_queries()\n",
    "        \n",
    "\n",
    "        print(\"guardado en diccionario...\")\n",
    "        dictio[i.strip()] = main\n",
    "            \n",
    "except Exception as e:\n",
    "    print(str(e))"
   ]
  },
  {
   "cell_type": "code",
   "execution_count": null,
   "id": "1875c548",
   "metadata": {
    "id": "1875c548"
   },
   "outputs": [],
   "source": [
    "data = {}\n",
    "for x in dictio:\n",
    "    print(x)\n",
    "    if bool(list(pd.DataFrame(dictio[x][x][\"top\"]).index.values)):\n",
    "            data[x] = dictio[x][x]\n",
    "    else:\n",
    "        data[x] = { 'top':[] }"
   ]
  },
  {
   "cell_type": "code",
   "execution_count": null,
   "id": "d2f34947",
   "metadata": {
    "id": "d2f34947"
   },
   "outputs": [],
   "source": [
    "out = {\"pais\":[],\"sabor\":[],\"query\":[],\"values\":[],\"type\":[],\"desde\":[],\"hasta\":[]}\n",
    "for sabor in data:\n",
    "    for key in data[sabor]:\n",
    "        if bool(list(pd.DataFrame(data[sabor][\"top\"]).index.values)):\n",
    "            try:\n",
    "                for row in range(len(data[sabor][key][\"query\"])):\n",
    "\n",
    "                    out[\"query\"].append(data[sabor][key][\"query\"].values[row])\n",
    "                    out[\"values\"].append(data[sabor][key][\"value\"].values[row])\n",
    "                    out[\"pais\"].append(pais)\n",
    "                    out[\"sabor\"].append(sabor)\n",
    "                    out[\"type\"].append(key)\n",
    "                    out[\"desde\"].append(desde)\n",
    "                    out[\"hasta\"].append(hasta)\n",
    "            except TypeError:\n",
    "                    out[\"pais\"].append(pais)\n",
    "                    out[\"sabor\"].append(sabor)\n",
    "                    out[\"type\"].append(key)\n",
    "                    out[\"query\"].append(\"-\")\n",
    "                    out[\"values\"].append(\"-\")\n",
    "                    out[\"desde\"].append(desde)\n",
    "                    out[\"hasta\"].append(hasta)\n",
    "        else:\n",
    "            out[\"pais\"].append(pais)\n",
    "            out[\"sabor\"].append(sabor)\n",
    "            out[\"type\"].append(key)\n",
    "            out[\"query\"].append(\"-\")\n",
    "            out[\"values\"].append(\"-\")\n",
    "            out[\"desde\"].append(desde)\n",
    "            out[\"hasta\"].append(hasta)"
   ]
  },
  {
   "cell_type": "code",
   "execution_count": null,
   "id": "43e7f6d6",
   "metadata": {
    "id": "43e7f6d6",
    "scrolled": false
   },
   "outputs": [],
   "source": [
    "a = pd.DataFrame(out)"
   ]
  },
  {
   "cell_type": "code",
   "execution_count": null,
   "id": "79f12acd",
   "metadata": {
    "scrolled": true
   },
   "outputs": [],
   "source": [
    "len(set(a['sabor']))"
   ]
  },
  {
   "cell_type": "code",
   "execution_count": null,
   "id": "005e5993",
   "metadata": {},
   "outputs": [],
   "source": [
    "faltantes = set(ingredients) - set(a['sabor'])"
   ]
  },
  {
   "cell_type": "code",
   "execution_count": null,
   "id": "e716e8d3",
   "metadata": {},
   "outputs": [],
   "source": [
    "len(set(a['sabor']))"
   ]
  },
  {
   "cell_type": "code",
   "execution_count": null,
   "id": "f30957b1",
   "metadata": {
    "id": "f30957b1",
    "scrolled": true
   },
   "outputs": [],
   "source": [
    "pd.DataFrame.from_dict(out).to_csv(nombre_del_csv, index=False)"
   ]
  }
 ],
 "metadata": {
  "colab": {
   "collapsed_sections": [],
   "name": "r_search_pytrends.ipynb",
   "provenance": []
  },
  "kernelspec": {
   "display_name": "Python 3 (ipykernel)",
   "language": "python",
   "name": "python3"
  },
  "language_info": {
   "codemirror_mode": {
    "name": "ipython",
    "version": 3
   },
   "file_extension": ".py",
   "mimetype": "text/x-python",
   "name": "python",
   "nbconvert_exporter": "python",
   "pygments_lexer": "ipython3",
   "version": "3.7.0"
  }
 },
 "nbformat": 4,
 "nbformat_minor": 5
}
